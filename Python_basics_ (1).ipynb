{
  "cells": [
    {
      "cell_type": "markdown",
      "id": "e64dd734",
      "metadata": {
        "id": "e64dd734"
      },
      "source": [
        "# Assignment 1 - Python Basics\n",
        "\n"
      ]
    },
    {
      "cell_type": "markdown",
      "id": "3f6298f6",
      "metadata": {
        "id": "3f6298f6"
      },
      "source": [
        "\n",
        "#Theory Questions\n",
        "\n",
        "#Q1. What is Python, and why is it popular?\n",
        "   => Python is a high-level,object oriented, interpreted programming language\n",
        "      It is popular because of its:\n",
        "      1)easy to learn\n",
        "      2)beginner freindly\n",
        "      3)broad standard library\n",
        "      4)portable to run codes\n",
        "  \n",
        "\n",
        "#Q2. What is an interpreter in Python?\n",
        "   => In python interpreter is a program that executes Python code line by      line and converting it into machine-readable language immediately.\n",
        "\n",
        "#Q3. What are pre-defined keywords in Python?\n",
        "   => In python Pre-defined keywords are reserved words that have special meanings for example: if, else, while, for, def, class.\n",
        "\n",
        "#Q4. Can keywords be used as variable names?\n",
        "   => No,In python we can't use keywords as a variable name because they are reserved to define language syntax and its structure.\n",
        "\n",
        "#Q5. What is mutability in Python?\n",
        "  => In python means whether an objects value can be changed after it is created .\n",
        "\n",
        "#Q6. Why are lists mutable, but tuples are immutable?\n",
        "  => 1)Lists are designed to store data that can change, so elements can be  updated.\n",
        "     2) Tuples are designed for fixed collections of data, so Python makes them immutable to ensure safety and performance.\n",
        "\n",
        "#Q7. Difference between “==” and “is” operators\n",
        "   => differnce:\n",
        "     1) == : checks value equality.  \n",
        "     2) is : checks object identity .\n",
        "\n",
        "#Q8. What are logical operators in Python?\n",
        "  => In python logical operators are used to perform logical opearations  \n",
        "     and used to combine conditional statements.eg: and,or,not.\n",
        "\n",
        "#Q9. What is type casting in Python?\n",
        "  => In python Type casting means converting one data type into another.\n",
        "\n",
        "#Q10. Difference between implicit and explicit type casting\n",
        "   => difference :\n",
        "     1) Implicit: Performed automatically by Python e.g:int + float → float.  \n",
        "     2)Explicit: Done manually using functions like int(), float(), str().\n",
        "\n",
        "#Q11. Purpose of conditional statements\n",
        "   => in python purpose of conditional statement is Conditional statements allow decision-making in code .\n",
        "\n",
        "#Q12. How does the elif statement work?\n",
        "   =>  'elif' is short for \"else if\". It checks additional conditions if the    previous 'if' was false.\n",
        "\n",
        "#Q13. Difference between for and while loops\n",
        "   => Difference:\n",
        "     - For loop: used when the number of iterations is known.  \n",
        "     - While loop: used when the number of iterations is not known.\n",
        "\n",
        "#Q14. Scenario where while loop is more suitable\n",
        "   =>   scenario: Keep asking the user for input until they enter a valid  password.\n"
      ]
    },
    {
      "cell_type": "markdown",
      "source": [
        "# practical questions"
      ],
      "metadata": {
        "id": "IsyJTW3j11eo"
      },
      "id": "IsyJTW3j11eo"
    },
    {
      "cell_type": "code",
      "source": [
        "# Q1. Write a Python program to print \"Hello, World!\"\n",
        "print(\"Hello, World!\")\n"
      ],
      "metadata": {
        "colab": {
          "base_uri": "https://localhost:8080/"
        },
        "id": "2WOWWK282ECq",
        "outputId": "103f41bc-1faf-4e7c-95dc-c2d601c487e3"
      },
      "id": "2WOWWK282ECq",
      "execution_count": null,
      "outputs": [
        {
          "output_type": "stream",
          "name": "stdout",
          "text": [
            "Hello, World!\n"
          ]
        }
      ]
    },
    {
      "cell_type": "code",
      "source": [
        "# Q2. Write a Python program that displays your name and age\n",
        "name = \"Aditya\"\n",
        "age = 22\n",
        "print(f\"My name is {name} and I am {age} years old.\")\n"
      ],
      "metadata": {
        "colab": {
          "base_uri": "https://localhost:8080/"
        },
        "id": "62Ke30m12IHa",
        "outputId": "c0c57204-b99c-4992-fd54-05be5f8c41b4"
      },
      "id": "62Ke30m12IHa",
      "execution_count": null,
      "outputs": [
        {
          "output_type": "stream",
          "name": "stdout",
          "text": [
            "My name is Aditya and I am 22 years old.\n"
          ]
        }
      ]
    },
    {
      "cell_type": "code",
      "source": [
        "# Q3. Write code to print all the pre-defined keywords in Python using the keyword library\n",
        "import keyword\n",
        "print(keyword.kwlist)\n"
      ],
      "metadata": {
        "colab": {
          "base_uri": "https://localhost:8080/"
        },
        "id": "2ryjys5z2Qfh",
        "outputId": "52372570-0f68-4a1f-9de3-33dc9e21c5e3"
      },
      "id": "2ryjys5z2Qfh",
      "execution_count": null,
      "outputs": [
        {
          "output_type": "stream",
          "name": "stdout",
          "text": [
            "['False', 'None', 'True', 'and', 'as', 'assert', 'async', 'await', 'break', 'class', 'continue', 'def', 'del', 'elif', 'else', 'except', 'finally', 'for', 'from', 'global', 'if', 'import', 'in', 'is', 'lambda', 'nonlocal', 'not', 'or', 'pass', 'raise', 'return', 'try', 'while', 'with', 'yield']\n"
          ]
        }
      ]
    },
    {
      "cell_type": "code",
      "source": [
        "# Q4. Write a program that checks if a given word is a Python keyword.\n",
        "import keyword\n",
        "word = \"for\"\n",
        "print(f\"Is '{word}' a keyword? {keyword.iskeyword(word)}\")\n"
      ],
      "metadata": {
        "colab": {
          "base_uri": "https://localhost:8080/"
        },
        "id": "AemYbEah2XWS",
        "outputId": "115def04-c412-4cd6-9733-4f6ecdf96731"
      },
      "id": "AemYbEah2XWS",
      "execution_count": null,
      "outputs": [
        {
          "output_type": "stream",
          "name": "stdout",
          "text": [
            "Is 'for' a keyword? True\n"
          ]
        }
      ]
    },
    {
      "cell_type": "code",
      "source": [
        "# 5. Create a list and tuple in Python, and demonstrate how attempting to change an element works differently.\n",
        "list = [1, 2, 3]\n",
        "tuple = (1, 2, 3)\n",
        "\n",
        "list[0] = 10   # Works\n",
        "print(\"Modified List:\", list)\n",
        "\n",
        "try:\n",
        "    tuple[0] = 10  # Fails\n",
        "except TypeError as e:\n",
        "    print(\"Error with tuple:\", e)\n",
        "\n",
        "\n"
      ],
      "metadata": {
        "colab": {
          "base_uri": "https://localhost:8080/"
        },
        "id": "Ff9ZC-tJ7jmA",
        "outputId": "21cc04ae-ad47-43b3-9e62-6d63c63b1a74"
      },
      "id": "Ff9ZC-tJ7jmA",
      "execution_count": null,
      "outputs": [
        {
          "output_type": "stream",
          "name": "stdout",
          "text": [
            "Modified List: [10, 2, 3]\n",
            "Error with tuple: 'tuple' object does not support item assignment\n"
          ]
        }
      ]
    },
    {
      "cell_type": "code",
      "source": [
        "# Q6. Write a function to demonstrate the behavior of mutable and immutable arguments.\n",
        "def modify_list(l):\n",
        "    l.append(100)\n",
        "\n",
        "def modify_int(x):\n",
        "    x = x + 10\n",
        "    return x\n",
        "\n",
        "lst = [1, 2, 3]\n",
        "modify_list(lst)\n",
        "print(\"List after function call:\", lst)\n",
        "\n",
        "num = 5\n",
        "print(\"Number after function call:\", modify_int(num))\n",
        "print(\"Original number remains:\", num)\n"
      ],
      "metadata": {
        "colab": {
          "base_uri": "https://localhost:8080/"
        },
        "id": "xDd65Ujk2l1q",
        "outputId": "fc4f32e6-d446-4238-b870-fc183d2173d9"
      },
      "id": "xDd65Ujk2l1q",
      "execution_count": null,
      "outputs": [
        {
          "output_type": "stream",
          "name": "stdout",
          "text": [
            "List after function call: [1, 2, 3, 100]\n",
            "Number after function call: 15\n",
            "Original number remains: 5\n"
          ]
        }
      ]
    },
    {
      "cell_type": "code",
      "source": [
        "# 7. Write a program that performs basic arithmetic operations on two user-input numbers.\n",
        "a, b = 10, 3\n",
        "print(\"Add:\", a+b)\n",
        "print(\"Sub:\", a-b)\n",
        "print(\"Mul:\", a*b)\n",
        "print(\"Div:\", a/b)\n"
      ],
      "metadata": {
        "colab": {
          "base_uri": "https://localhost:8080/"
        },
        "id": "MUt803pF2phi",
        "outputId": "dd55fd1f-c31c-4b37-a7d8-7f472504b5db"
      },
      "id": "MUt803pF2phi",
      "execution_count": null,
      "outputs": [
        {
          "output_type": "stream",
          "name": "stdout",
          "text": [
            "Add: 13\n",
            "Sub: 7\n",
            "Mul: 30\n",
            "Div: 3.3333333333333335\n"
          ]
        }
      ]
    },
    {
      "cell_type": "code",
      "source": [
        "# 8. Write a program to demonstrate the use of logical operators.\n",
        "x, y = True, False\n",
        "print(\"x and y:\", x and y)\n",
        "print(\"x or y:\", x or y)\n",
        "print(\"not x:\", not x)\n"
      ],
      "metadata": {
        "colab": {
          "base_uri": "https://localhost:8080/"
        },
        "id": "Xv8XJNcG2yIC",
        "outputId": "7695d16e-6694-4af9-879f-7e509d1d6d98"
      },
      "id": "Xv8XJNcG2yIC",
      "execution_count": null,
      "outputs": [
        {
          "output_type": "stream",
          "name": "stdout",
          "text": [
            "x and y: False\n",
            "x or y: True\n",
            "not x: False\n"
          ]
        }
      ]
    },
    {
      "cell_type": "code",
      "source": [
        "# 9. Write a Python program to convert user input from string to integer, float, and boolean types.\n",
        "x = \"25\"\n",
        "print(int(x), float(x), bool(x))\n"
      ],
      "metadata": {
        "colab": {
          "base_uri": "https://localhost:8080/"
        },
        "id": "tYYd2rU63JmJ",
        "outputId": "9007be7d-58a2-466b-9286-bf8d55fa6966"
      },
      "id": "tYYd2rU63JmJ",
      "execution_count": null,
      "outputs": [
        {
          "output_type": "stream",
          "name": "stdout",
          "text": [
            "25 25.0 True\n"
          ]
        }
      ]
    },
    {
      "cell_type": "code",
      "source": [
        "# Q10. Demonstrate type casting with list elements.\n",
        "\n",
        "numbers = [\"1\", \"2\", \"3\"]\n",
        "numbers = [int(x) for x in numbers]\n",
        "print(numbers)\n"
      ],
      "metadata": {
        "colab": {
          "base_uri": "https://localhost:8080/"
        },
        "id": "3XIerfcW437w",
        "outputId": "139fd745-7c35-4d23-dc59-fac544b6686c"
      },
      "id": "3XIerfcW437w",
      "execution_count": null,
      "outputs": [
        {
          "output_type": "stream",
          "name": "stdout",
          "text": [
            "[1, 2, 3]\n"
          ]
        }
      ]
    },
    {
      "cell_type": "code",
      "source": [
        "# 11. Write a program that checks if a number is positive, negative, or zero.\n",
        "num = -5\n",
        "if num > 0:\n",
        "    print(\"Positive\")\n",
        "elif num < 0:\n",
        "    print(\"Negative\")\n",
        "else:\n",
        "    print(\"Zero\")\n"
      ],
      "metadata": {
        "colab": {
          "base_uri": "https://localhost:8080/"
        },
        "id": "yBAAdFXy5OT5",
        "outputId": "d54a397d-de46-4c74-ef7a-84113f42b50c"
      },
      "id": "yBAAdFXy5OT5",
      "execution_count": null,
      "outputs": [
        {
          "output_type": "stream",
          "name": "stdout",
          "text": [
            "Negative\n"
          ]
        }
      ]
    },
    {
      "cell_type": "code",
      "source": [
        "# 12. Write a for loop to print numbers from 1 to 10.\n",
        "for i  in range(1, 11):\n",
        "    print(i, end=\" \")\n"
      ],
      "metadata": {
        "colab": {
          "base_uri": "https://localhost:8080/"
        },
        "id": "0Co98JtD5dih",
        "outputId": "efc7784e-1ab4-471b-8824-0228645a6a70"
      },
      "id": "0Co98JtD5dih",
      "execution_count": null,
      "outputs": [
        {
          "output_type": "stream",
          "name": "stdout",
          "text": [
            "1 2 3 4 5 6 7 8 9 10 "
          ]
        }
      ]
    },
    {
      "cell_type": "code",
      "source": [
        "# 13. Write a Python program to find the sum of all even numbers between 1 and 50.\n",
        "sum_even = sum(i for i in range(1, 51) if i % 2 == 0)\n",
        "print(\"\\nSum of even numbers:\", sum_even)\n"
      ],
      "metadata": {
        "colab": {
          "base_uri": "https://localhost:8080/"
        },
        "id": "p-KE0bku5lTh",
        "outputId": "d71ce191-0baf-4b6e-f985-d4d47fb51e74"
      },
      "id": "p-KE0bku5lTh",
      "execution_count": null,
      "outputs": [
        {
          "output_type": "stream",
          "name": "stdout",
          "text": [
            "\n",
            "Sum of even numbers: 650\n"
          ]
        }
      ]
    },
    {
      "cell_type": "code",
      "source": [
        "# 14. Write a program to reverse a string using a while loop.\n",
        "s = \" alakh pandey sir \"\n",
        "rev = \"\"\n",
        "i = len(s) - 1\n",
        "while i >= 0:\n",
        "    rev += s[i]\n",
        "    i -= 1\n",
        "print(\"Reversed string:\", rev)\n"
      ],
      "metadata": {
        "colab": {
          "base_uri": "https://localhost:8080/"
        },
        "id": "KorR5ib45qTL",
        "outputId": "08f76139-c873-47b2-d2fb-63505d2e85a1"
      },
      "id": "KorR5ib45qTL",
      "execution_count": null,
      "outputs": [
        {
          "output_type": "stream",
          "name": "stdout",
          "text": [
            "Reversed string:  ris yednap hkala \n"
          ]
        }
      ]
    },
    {
      "cell_type": "code",
      "source": [
        "# 15. Write a Python program to calculate the factorial of a number provided by the user using a while loop.\n",
        "n = 5\n",
        "fact = 1\n",
        "while n > 0:\n",
        "    fact *= n\n",
        "    n -= 1\n",
        "print(\"Factorial:\", fact)\n"
      ],
      "metadata": {
        "colab": {
          "base_uri": "https://localhost:8080/"
        },
        "id": "dZhSl19v5qj6",
        "outputId": "04230a85-4976-4900-dea5-80c4778f11e5"
      },
      "id": "dZhSl19v5qj6",
      "execution_count": null,
      "outputs": [
        {
          "output_type": "stream",
          "name": "stdout",
          "text": [
            "Factorial: 120\n"
          ]
        }
      ]
    }
  ],
  "metadata": {
    "language_info": {
      "name": "python"
    },
    "colab": {
      "provenance": []
    },
    "kernelspec": {
      "name": "python3",
      "display_name": "Python 3"
    }
  },
  "nbformat": 4,
  "nbformat_minor": 5
}